{
 "cells": [
  {
   "cell_type": "markdown",
   "metadata": {},
   "source": [
    "# Np2d examples"
   ]
  },
  {
   "cell_type": "code",
   "execution_count": 1,
   "metadata": {
    "collapsed": true
   },
   "outputs": [],
   "source": [
    "import numpy as np\n",
    "import np2d"
   ]
  },
  {
   "cell_type": "markdown",
   "metadata": {},
   "source": [
    "## `random.choice`"
   ]
  },
  {
   "cell_type": "code",
   "execution_count": 21,
   "metadata": {},
   "outputs": [
    {
     "name": "stdout",
     "output_type": "stream",
     "text": [
      " A array:\n",
      "[[ 6.66750293  7.41613631  3.06095927  6.2575966 ]\n",
      " [ 0.09117781  5.76947021  4.74042123  8.26263678]\n",
      " [ 6.90855765  1.34674523  3.72345305  7.21179911]]\n",
      "\n",
      " Probability array:\n",
      "[[ 0.03845405  0.0050683   0.09646995  0.17584875]\n",
      " [ 0.11606853  0.12240921  0.17354756  0.14188227]\n",
      " [ 0.00461633  0.01130194  0.01756229  0.09677082]]\n"
     ]
    }
   ],
   "source": [
    "a = np.random.uniform(0,10, size=(3,4)) \n",
    "\n",
    "# Construct a probability array\n",
    "p = np.random.random(size=(3,4))\n",
    "p = p/p.sum()\n",
    "print(\" A array:\")\n",
    "print(a)\n",
    "print(\"\\n Probability array:\")\n",
    "print(p)"
   ]
  },
  {
   "cell_type": "code",
   "execution_count": 22,
   "metadata": {},
   "outputs": [
    {
     "name": "stdout",
     "output_type": "stream",
     "text": [
      " Samples:\n",
      "[ 8.26263678  1.34674523  8.26263678  0.09117781]\n",
      " Indices:\n",
      "[[1 3]\n",
      " [2 1]\n",
      " [1 3]\n",
      " [1 0]]\n"
     ]
    }
   ],
   "source": [
    "vals, coor = np2d.random.choice2d(a, size=4, p=p)\n",
    "print(\" Samples:\")\n",
    "print(vals)\n",
    "print(\" Indices:\")\n",
    "print(coor)"
   ]
  }
 ],
 "metadata": {
  "kernelspec": {
   "display_name": "Python 3",
   "language": "python",
   "name": "python3"
  },
  "language_info": {
   "codemirror_mode": {
    "name": "ipython",
    "version": 3
   },
   "file_extension": ".py",
   "mimetype": "text/x-python",
   "name": "python",
   "nbconvert_exporter": "python",
   "pygments_lexer": "ipython3",
   "version": "3.5.2"
  }
 },
 "nbformat": 4,
 "nbformat_minor": 2
}
