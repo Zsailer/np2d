{
 "cells": [
  {
   "cell_type": "markdown",
   "metadata": {},
   "source": [
    "# Np2d examples"
   ]
  },
  {
   "cell_type": "code",
   "execution_count": 1,
   "metadata": {
    "collapsed": true
   },
   "outputs": [],
   "source": [
    "import numpy as np\n",
    "import np2d"
   ]
  },
  {
   "cell_type": "markdown",
   "metadata": {},
   "source": [
    "## `random.choice`"
   ]
  },
  {
   "cell_type": "code",
   "execution_count": 2,
   "metadata": {
    "collapsed": false
   },
   "outputs": [
    {
     "name": "stdout",
     "output_type": "stream",
     "text": [
      " A array:\n",
      "[[ 8.12730301  3.17969548  5.1463011   1.21137116]\n",
      " [ 4.79779323  1.7580591   1.42487239  2.37899759]\n",
      " [ 4.59841327  0.75811371  8.32494328  4.77565214]]\n",
      "\n",
      " Probability array:\n",
      "[[ 0.05264463  0.09225875  0.14023031  0.12928219]\n",
      " [ 0.14348546  0.09416479  0.04194738  0.08579122]\n",
      " [ 0.06108743  0.03364044  0.03656878  0.08889862]]\n"
     ]
    }
   ],
   "source": [
    "a = np.random.uniform(0,10, size=(3,4)) \n",
    "\n",
    "# Construct a probability array\n",
    "p = np.random.random(size=(3,4))\n",
    "p = p/p.sum()\n",
    "print(\" A array:\")\n",
    "print(a)\n",
    "print(\"\\n Probability array:\")\n",
    "print(p)"
   ]
  },
  {
   "cell_type": "code",
   "execution_count": 3,
   "metadata": {
    "collapsed": false
   },
   "outputs": [
    {
     "name": "stdout",
     "output_type": "stream",
     "text": [
      " Samples:\n",
      "[ 4.79779323  2.37899759  2.37899759  1.7580591 ]\n",
      " Indices:\n",
      "[[1 0]\n",
      " [1 3]\n",
      " [1 3]\n",
      " [1 1]]\n"
     ]
    }
   ],
   "source": [
    "vals, coor = np2d.random.choice(a, size=4, p=p)\n",
    "print(\" Samples:\")\n",
    "print(vals)\n",
    "print(\" Indices:\")\n",
    "print(coor)"
   ]
  },
  {
   "cell_type": "code",
   "execution_count": null,
   "metadata": {
    "collapsed": true
   },
   "outputs": [],
   "source": []
  }
 ],
 "metadata": {
  "kernelspec": {
   "display_name": "Python 3",
   "language": "python",
   "name": "python3"
  },
  "language_info": {
   "codemirror_mode": {
    "name": "ipython",
    "version": 3
   },
   "file_extension": ".py",
   "mimetype": "text/x-python",
   "name": "python",
   "nbconvert_exporter": "python",
   "pygments_lexer": "ipython3",
   "version": "3.5.2"
  }
 },
 "nbformat": 4,
 "nbformat_minor": 2
}
